{
 "cells": [
  {
   "cell_type": "markdown",
   "metadata": {},
   "source": [
    "## PROJECT. Исследование поведения пользователей (SF_38.9)\n",
    "### Описание гипотезы\n",
    "#### Проверим два предположения:\n",
    "1. Зависит ли вероятность оплаты от выбранного пользователем уровня сложности бесплатных тренировок?\n",
    "2. Существует ли разница во времени между пользователями с разным уровнем сложности и их первой оплатой?\n",
    "Проверку будем производить на основе данных пользователей, которые зарегистрировались в 2018 году.\n",
    "\n"
   ]
  },
  {
   "cell_type": "markdown",
   "metadata": {},
   "source": [
    "### Ход проверки"
   ]
  },
  {
   "cell_type": "markdown",
   "metadata": {},
   "source": [
    "Часть 1. Преобразование типов"
   ]
  },
  {
   "cell_type": "code",
   "execution_count": 4,
   "metadata": {},
   "outputs": [
    {
     "name": "stderr",
     "output_type": "stream",
     "text": [
      "C:\\Users\\user\\AppData\\Local\\Temp/ipykernel_13384/2141845645.py:7: UserWarning: Boolean Series key will be reindexed to match DataFrame index.\n",
      "  registered2 = df2[cond2]['user_id'].to_list()\n"
     ]
    },
    {
     "name": "stdout",
     "output_type": "stream",
     "text": [
      "51405    2018-01-01 03:48:40\n",
      "51406    2018-01-01 04:07:25\n",
      "51407    2018-01-01 08:35:10\n",
      "51408    2018-01-01 11:54:47\n",
      "51409    2018-01-01 13:28:07\n",
      "                 ...        \n",
      "118359   2019-01-01 03:26:18\n",
      "118360   2019-01-01 03:29:25\n",
      "118362   2019-01-01 05:04:52\n",
      "118363   2019-01-01 05:42:11\n",
      "118364   2019-01-01 05:50:36\n",
      "Name: start_time, Length: 66959, dtype: datetime64[ns]\n",
      "1164   2018-01-01 12:37:02\n",
      "1166   2018-01-01 23:23:49\n",
      "1167   2018-01-02 09:53:55\n",
      "1168   2018-01-02 18:48:55\n",
      "1170   2018-01-02 23:28:43\n",
      "               ...        \n",
      "2732   2018-12-24 19:33:02\n",
      "2737   2018-12-26 00:06:05\n",
      "2738   2018-12-26 09:53:20\n",
      "2746   2018-12-27 21:18:31\n",
      "2752   2018-12-29 18:35:39\n",
      "Name: event_datetime, Length: 510, dtype: datetime64[ns]\n"
     ]
    }
   ],
   "source": [
    "import pandas as pd\n",
    "df = pd.read_csv('7_4_Events.csv')\n",
    "df2 = pd.read_csv('purchase.csv')\n",
    "cond = (df.start_time>='2018-01-01') & (df.start_time<'2019-01-01') & (df.event_type=='registration')\n",
    "cond2 = (df2.event_datetime>='2018-01-01') & (df2.event_datetime<'2019-01-01') & (df.event_type=='registration')\n",
    "registered = df[cond]['user_id'].to_list()\n",
    "registered2 = df2[cond2]['user_id'].to_list()\n",
    "events = df[df.user_id.isin(registered)]\n",
    "events.start_time = pd.to_datetime(events.start_time, format='%Y-%m-%dT%H:%M:%S')\n",
    "df2['event_type'] = 'purchase'\n",
    "purchase = df2[df2.user_id.isin(registered2)]\n",
    "purchase.event_datetime = pd.to_datetime(purchase.event_datetime, format='%Y-%m-%dT%H:%M:%S')\n",
    "print(events.start_time)\n",
    "print(purchase.event_datetime)"
   ]
  },
  {
   "cell_type": "markdown",
   "metadata": {},
   "source": [
    "Часть 2. Сделаем объединенный датафрейм из событий и оплат"
   ]
  },
  {
   "cell_type": "code",
   "execution_count": 5,
   "metadata": {},
   "outputs": [
    {
     "name": "stdout",
     "output_type": "stream",
     "text": [
      "         id       event_type selected_level           start_time  tutorial_id  \\\n",
      "0     28903     registration            NaN  2016-05-11T23:40:55          NaN   \n",
      "1     28904     registration            NaN  2016-05-11T23:49:58          NaN   \n",
      "2     28905     registration            NaN  2016-05-12T00:53:07          NaN   \n",
      "3     28906   tutorial_start            NaN  2016-05-12T01:32:20      17562.0   \n",
      "4     28907  tutorial_finish            NaN  2016-05-12T01:34:53      17562.0   \n",
      "...     ...              ...            ...                  ...          ...   \n",
      "5951  21625              NaN            NaN                  NaN          NaN   \n",
      "5952  21626              NaN            NaN                  NaN          NaN   \n",
      "5953  21627              NaN            NaN                  NaN          NaN   \n",
      "5954  21628              NaN            NaN                  NaN          NaN   \n",
      "5955  21629              NaN            NaN                  NaN          NaN   \n",
      "\n",
      "      user_id       event_datetime  amount  \n",
      "0       12583                  NaN     NaN  \n",
      "1       12584                  NaN     NaN  \n",
      "2       12585                  NaN     NaN  \n",
      "3       12585                  NaN     NaN  \n",
      "4       12585                  NaN     NaN  \n",
      "...       ...                  ...     ...  \n",
      "5951    87331  2020-07-06T09:02:07    50.0  \n",
      "5952    87418  2020-07-06T14:16:37   100.0  \n",
      "5953    87431  2020-07-06T22:48:59    50.0  \n",
      "5954    87363  2020-07-07T05:38:56   100.0  \n",
      "5955    87466  2020-07-08T01:59:21    50.0  \n",
      "\n",
      "[258290 rows x 8 columns]\n"
     ]
    }
   ],
   "source": [
    "import pandas as pd\n",
    "df = pd.read_csv('7_4_Events.csv')\n",
    "df2 = pd.read_csv('purchase.csv')\n",
    "total_events_df = pd.concat([df,df2],sort=False)\n",
    "print(total_events_df)"
   ]
  },
  {
   "cell_type": "markdown",
   "metadata": {},
   "source": [
    "Часть 3 Находим группы пользователей по уровню сложности, который был выбран для тренировок"
   ]
  },
  {
   "cell_type": "code",
   "execution_count": null,
   "metadata": {},
   "outputs": [
    {
     "name": "stdout",
     "output_type": "stream",
     "text": [
      "[nan 'hard' 'easy' 'medium']\n"
     ]
    }
   ],
   "source": [
    "import pandas as pd\n",
    "df = pd.read_csv('events.csv')\n",
    "df2 = pd.read_csv('purchase.csv')\n",
    "total_events_df = pd.concat([df,df2],sort=False)\n",
    "print(total_events_df['selected_level'].unique())"
   ]
  },
  {
   "cell_type": "markdown",
   "metadata": {},
   "source": [
    "Часть 4 Сформируем группы"
   ]
  },
  {
   "cell_type": "code",
   "execution_count": 6,
   "metadata": {},
   "outputs": [
    {
     "name": "stderr",
     "output_type": "stream",
     "text": [
      "C:\\Python39\\lib\\site-packages\\pandas\\core\\generic.py:5516: SettingWithCopyWarning: \n",
      "A value is trying to be set on a copy of a slice from a DataFrame.\n",
      "Try using .loc[row_indexer,col_indexer] = value instead\n",
      "\n",
      "See the caveats in the documentation: https://pandas.pydata.org/pandas-docs/stable/user_guide/indexing.html#returning-a-view-versus-a-copy\n",
      "  self[name] = value\n"
     ]
    },
    {
     "name": "stdout",
     "output_type": "stream",
     "text": [
      "Процент оплативших пользователей, выбравших уровень сложности easy: 7.72%\n",
      "\n",
      "Среднее время между выбором уровня сложности и оплатой для пользователей, выбравших уровень сложности easy: 3 days 14:58:52.941798941\n",
      "Характеристики времени:\n",
      "count                          189\n",
      "mean     3 days 14:58:52.941798941\n",
      "std      2 days 07:06:35.644097504\n",
      "min                0 days 00:49:20\n",
      "25%                1 days 17:18:56\n",
      "50%                3 days 06:03:50\n",
      "75%                5 days 06:58:18\n",
      "max               10 days 18:35:09\n",
      "Name: timedelta, dtype: object\n",
      "Процент оплативших пользователей, выбравших уровень сложности medium: 20.86%\n",
      "\n",
      "Среднее время между выбором уровня сложности и оплатой для пользователей, выбравших уровень сложности medium: 3 days 23:14:13.165118679\n",
      "Характеристики времени:\n",
      "count                          969\n",
      "mean     3 days 23:14:13.165118679\n",
      "std      2 days 06:18:57.618467109\n",
      "min                0 days 04:18:12\n",
      "25%                2 days 01:20:07\n",
      "50%                3 days 19:53:19\n",
      "75%                5 days 16:07:19\n",
      "max               10 days 13:51:01\n",
      "Name: timedelta, dtype: object\n",
      "Процент оплативших пользователей, выбравших уровень сложности hard: 35.39%\n",
      "\n",
      "Среднее время между выбором уровня сложности и оплатой для пользователей, выбравших уровень сложности hard: 3 days 07:20:41.420814479\n",
      "Характеристики времени:\n",
      "count                          442\n",
      "mean     3 days 07:20:41.420814479\n",
      "std      1 days 21:43:52.953292605\n",
      "min                0 days 03:26:45\n",
      "25%         1 days 14:57:23.500000\n",
      "50%         3 days 03:13:57.500000\n",
      "75%         4 days 19:16:00.250000\n",
      "max                8 days 01:18:13\n",
      "Name: timedelta, dtype: object\n"
     ]
    }
   ],
   "source": [
    "import pandas as pd\n",
    "df = pd.read_csv('7_4_Events.csv')\n",
    "df2 = pd.read_csv('purchase.csv')\n",
    "cond = (df.start_time>='2018-01-01') & (df.start_time<'2019-01-01') & (df.event_type=='registration')\n",
    "cond2 = (df2.event_datetime>='2018-01-01') & (df2.event_datetime<'2019-01-01')\n",
    "registered = df[cond]['user_id'].to_list()\n",
    "events = df[df.user_id.isin(registered)]\n",
    "events.start_time = pd.to_datetime(events.start_time, format='%Y-%m-%dT%H:%M:%S')\n",
    "df2['event_type'] = 'purchase'\n",
    "purchase = df2[df2.user_id.isin(registered)]\n",
    "purchase.event_datetime = pd.to_datetime(purchase.event_datetime, format='%Y-%m-%dT%H:%M:%S')\n",
    "total_events_df = pd.concat([events,purchase],sort=False)\n",
    "users_with_easy_level = total_events_df[total_events_df['selected_level'] == 'easy']\n",
    "users_with_medium_level = total_events_df[total_events_df['selected_level'] == 'medium']\n",
    "users_with_hard_level = total_events_df[total_events_df['selected_level'] == 'hard']\n",
    "user_groups = [\n",
    "    {'easy': users_with_easy_level},\n",
    "    {'medium': users_with_medium_level},\n",
    "    {'hard': users_with_hard_level}]\n",
    "for group in user_groups:\n",
    "    level = list(group.keys())[0]\n",
    "    group_users = group[level]\n",
    "    count_of_users_in_group = len(group_users)\n",
    "    purchase_df_slice = purchase[purchase['user_id'].isin(group_users['user_id'])]\n",
    "    percent_of_purchase = purchase_df_slice['user_id'].nunique()/count_of_users_in_group\n",
    "    print ('Процент оплативших пользователей, выбравших уровень сложности {}: {:.2%}'.format(level,percent_of_purchase))\n",
    "    print ()\n",
    "    level_choice_df = total_events_df[(total_events_df['event_type'] == 'level_choice') & (total_events_df['user_id'].isin(group_users['user_id']))]\n",
    "    if (level_choice_df['user_id'].value_counts().mean()) == [1]:\n",
    "        level_choice_df = level_choice_df[['user_id','start_time']].rename(columns={'start_time':'level_choice_time'})\n",
    "        #Исправила\n",
    "        purchase_df_slice_2 = purchase_df_slice[['user_id','event_datetime']].rename(columns={'event_datetime':'purchase_time'})\n",
    "        merged_df = purchase_df_slice_2.merge(level_choice_df,on='user_id',how='inner')\n",
    "        merged_df['timedelta'] = merged_df['purchase_time'] - merged_df['level_choice_time']\n",
    "        mean_time = merged_df['timedelta'].mean()\n",
    "        print ('Среднее время между выбором уровня сложности и оплатой для пользователей, выбравших уровень сложности {}: {}'.format(level,mean_time))\n",
    "        print ('Характеристики времени:')\n",
    "        print (merged_df['timedelta'].describe())\n",
    "    else:\n",
    "        print ('Более 1 события выбора уровня сложности')"
   ]
  },
  {
   "cell_type": "markdown",
   "metadata": {},
   "source": [
    "Часть 5 Выводы"
   ]
  },
  {
   "cell_type": "markdown",
   "metadata": {},
   "source": [
    "Процент оплативших пользователей, выбравших уровень сложности easy: 7.72%. Среднее время между выбором уровня сложности и оплатой для пользователей, выбравших уровень сложности easy: 3 days 14:58:52.941798941\n",
    "\n",
    "Процент оплативших пользователей, выбравших уровень сложности medium: 20.86%. \n",
    "Среднее время между выбором уровня сложности и оплатой для пользователей, выбравших уровень сложности medium: 3 days 23:14:13.165118679\n",
    "\n",
    "Процент оплативших пользователей, выбравших уровень сложности hard: 35.39%. Среднее время между выбором уровня сложности и оплатой для пользователей, выбравших уровень сложности hard: 3 days 07:20:41.420814479\n",
    "\n",
    "Данные результаты подтверждают предположения:\n",
    "* Вероятность оплаты зависит от выбранного пользователем уровня сложности бесплатных тренировок.\n",
    "* Существует ли разница во времени между пользователями с разным уровнем сложности и их первой оплатой.\n",
    "\n"
   ]
  }
 ],
 "metadata": {
  "interpreter": {
   "hash": "63fd5069d213b44bf678585dea6b12cceca9941eaf7f819626cde1f2670de90d"
  },
  "kernelspec": {
   "display_name": "Python 3.9.7 64-bit",
   "language": "python",
   "name": "python3"
  },
  "language_info": {
   "codemirror_mode": {
    "name": "ipython",
    "version": 3
   },
   "file_extension": ".py",
   "mimetype": "text/x-python",
   "name": "python",
   "nbconvert_exporter": "python",
   "pygments_lexer": "ipython3",
   "version": "3.9.7"
  },
  "orig_nbformat": 4
 },
 "nbformat": 4,
 "nbformat_minor": 2
}
