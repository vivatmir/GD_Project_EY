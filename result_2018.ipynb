{
 "cells": [
  {
   "cell_type": "markdown",
   "metadata": {},
   "source": [
    "## PROJECT. Исследование поведения пользователей (SF_38.9)\n",
    "### Описание гипотезы\n",
    "#### Проверим два предположения:\n",
    "1. Зависит ли вероятность оплаты от выбранного пользователем уровня сложности бесплатных тренировок?\n",
    "2. Существует ли разница во времени между пользователями с разным уровнем сложности и их первой оплатой?\n",
    "Проверку будем производить на основе данных пользователей, которые зарегистрировались в 2018 году.\n",
    "\n"
   ]
  },
  {
   "cell_type": "markdown",
   "metadata": {},
   "source": [
    "### Ход проверки"
   ]
  },
  {
   "cell_type": "markdown",
   "metadata": {},
   "source": [
    "Часть 1. Преобразование типов"
   ]
  },
  {
   "cell_type": "code",
   "execution_count": null,
   "metadata": {},
   "outputs": [],
   "source": [
    "import pandas as pd\n",
    "df = pd.read_csv('7_4_Events.csv')\n",
    "df2 = pd.read_csv('purchase.csv')\n",
    "cond = (df.start_time>='2018-01-01') & (df.start_time<'2019-01-01') & (df.event_type=='registration')\n",
    "cond2 = (df2.event_datetime>='2018-01-01') & (df2.event_datetime<'2019-01-01') & (df.event_type=='registration')\n",
    "registered = df[cond]['user_id'].to_list()\n",
    "registered2 = df2[cond2]['user_id'].to_list()\n",
    "events = df[df.user_id.isin(registered)]\n",
    "events.start_time = pd.to_datetime(events.start_time, format='%Y-%m-%dT%H:%M:%S')\n",
    "df2['event_type'] = 'purchase'\n",
    "purchase = df2[df2.user_id.isin(registered2)]\n",
    "purchase.event_datetime = pd.to_datetime(purchase.event_datetime, format='%Y-%m-%dT%H:%M:%S')\n",
    "print(events.start_time)\n",
    "print(purchase.event_datetime)"
   ]
  },
  {
   "cell_type": "markdown",
   "metadata": {},
   "source": [
    "Часть 2. Сделаем объединенный датафрейм из событий и оплат"
   ]
  },
  {
   "cell_type": "code",
   "execution_count": null,
   "metadata": {},
   "outputs": [],
   "source": [
    "import pandas as pd\n",
    "df = pd.read_csv('7_4_Events.csv')\n",
    "df2 = pd.read_csv('purchase.csv')\n",
    "total_events_df = pd.concat([df,df2],sort=False)\n",
    "print(total_events_df)"
   ]
  },
  {
   "cell_type": "markdown",
   "metadata": {},
   "source": [
    "Часть 3 Находим группы пользователей по уровню сложности, который был выбран для тренировок"
   ]
  },
  {
   "cell_type": "code",
   "execution_count": null,
   "metadata": {},
   "outputs": [
    {
     "name": "stdout",
     "output_type": "stream",
     "text": [
      "[nan 'hard' 'easy' 'medium']\n"
     ]
    }
   ],
   "source": [
    "import pandas as pd\n",
    "df = pd.read_csv('events.csv')\n",
    "df2 = pd.read_csv('purchase.csv')\n",
    "total_events_df = pd.concat([df,df2],sort=False)\n",
    "print(total_events_df['selected_level'].unique())"
   ]
  },
  {
   "cell_type": "markdown",
   "metadata": {},
   "source": [
    "Часть 4 Сформируем группы"
   ]
  },
  {
   "cell_type": "code",
   "execution_count": null,
   "metadata": {},
   "outputs": [],
   "source": [
    "import pandas as pd\n",
    "df = pd.read_csv('7_4_Events.csv')\n",
    "df2 = pd.read_csv('purchase.csv')\n",
    "cond = (df.start_time>='2018-01-01') & (df.start_time<'2019-01-01') & (df.event_type=='registration')\n",
    "cond2 = (df2.event_datetime>='2018-01-01') & (df2.event_datetime<'2019-01-01')\n",
    "registered = df[cond]['user_id'].to_list()\n",
    "events = df[df.user_id.isin(registered)]\n",
    "events.start_time = pd.to_datetime(events.start_time, format='%Y-%m-%dT%H:%M:%S')\n",
    "df2['event_type'] = 'purchase'\n",
    "purchase = df2[df2.user_id.isin(registered)]\n",
    "purchase.event_datetime = pd.to_datetime(purchase.event_datetime, format='%Y-%m-%dT%H:%M:%S')\n",
    "total_events_df = pd.concat([events,purchase],sort=False)\n",
    "users_with_easy_level = total_events_df[total_events_df['selected_level'] == 'easy']\n",
    "users_with_medium_level = total_events_df[total_events_df['selected_level'] == 'medium']\n",
    "users_with_hard_level = total_events_df[total_events_df['selected_level'] == 'hard']\n",
    "user_groups = [\n",
    "    {'easy': users_with_easy_level},\n",
    "    {'medium': users_with_medium_level},\n",
    "    {'hard': users_with_hard_level}]\n",
    "for group in user_groups:\n",
    "    level = list(group.keys())[0]\n",
    "    group_users = group[level]\n",
    "    count_of_users_in_group = len(group_users)\n",
    "    purchase_df_slice = purchase[purchase['user_id'].isin(group_users['user_id'])]\n",
    "    percent_of_purchase = purchase_df_slice['user_id'].nunique()/count_of_users_in_group\n",
    "    print ('Процент оплативших пользователей, выбравших уровень сложности {}: {:.2%}'.format(level,percent_of_purchase))\n",
    "    print ()\n",
    "    level_choice_df = total_events_df[(total_events_df['event_type'] == 'level_choice') & (total_events_df['user_id'].isin(group_users['user_id']))]\n",
    "    if (level_choice_df['user_id'].value_counts().mean()) == [1]:\n",
    "        level_choice_df = level_choice_df[['user_id','start_time']].rename(columns={'start_time':'level_choice_time'})\n",
    "        #Исправила\n",
    "        purchase_df_slice_2 = purchase_df_slice[['user_id','event_datetime']].rename(columns={'event_datetime':'purchase_time'})\n",
    "        merged_df = purchase_df_slice_2.merge(level_choice_df,on='user_id',how='inner')\n",
    "        merged_df['timedelta'] = merged_df['purchase_time'] - merged_df['level_choice_time']\n",
    "        mean_time = merged_df['timedelta'].mean()\n",
    "        print ('Среднее время между выбором уровня сложности и оплатой для пользователей, выбравших уровень сложности {}: {}'.format(level,mean_time))\n",
    "        print ('Характеристики времени:')\n",
    "        print (merged_df['timedelta'].describe())\n",
    "    else:\n",
    "        print ('Более 1 события выбора уровня сложности')"
   ]
  },
  {
   "cell_type": "markdown",
   "metadata": {},
   "source": [
    "Часть 5 Выводы"
   ]
  },
  {
   "cell_type": "markdown",
   "metadata": {},
   "source": [
    "Процент оплативших пользователей, выбравших уровень сложности easy: 7.72%. Среднее время между выбором уровня сложности и оплатой для пользователей, выбравших уровень сложности easy: 3 days 14:58:52.941798941\n",
    "\n",
    "Процент оплативших пользователей, выбравших уровень сложности medium: 20.86%. \n",
    "Среднее время между выбором уровня сложности и оплатой для пользователей, выбравших уровень сложности medium: 3 days 23:14:13.165118679\n",
    "\n",
    "Процент оплативших пользователей, выбравших уровень сложности hard: 35.39%. Среднее время между выбором уровня сложности и оплатой для пользователей, выбравших уровень сложности hard: 3 days 07:20:41.420814479\n"
   ]
  },
  {
   "cell_type": "markdown",
   "metadata": {},
   "source": [
    "![альт] (Results.png)"
   ]
  }
 ],
 "metadata": {
  "interpreter": {
   "hash": "63fd5069d213b44bf678585dea6b12cceca9941eaf7f819626cde1f2670de90d"
  },
  "kernelspec": {
   "display_name": "Python 3.9.7 64-bit",
   "language": "python",
   "name": "python3"
  },
  "language_info": {
   "codemirror_mode": {
    "name": "ipython",
    "version": 3
   },
   "file_extension": ".py",
   "mimetype": "text/x-python",
   "name": "python",
   "nbconvert_exporter": "python",
   "pygments_lexer": "ipython3",
   "version": "3.9.7"
  },
  "orig_nbformat": 4
 },
 "nbformat": 4,
 "nbformat_minor": 2
}
